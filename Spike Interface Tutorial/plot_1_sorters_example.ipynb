{
 "cells": [
  {
   "cell_type": "code",
   "execution_count": 10,
   "metadata": {},
   "outputs": [
    {
     "name": "stdout",
     "output_type": "stream",
     "text": [
      "Requirement already satisfied: spikeinterface in /home/accts/bsa9/.local/lib/python3.8/site-packages (0.10.0)\n",
      "Requirement already satisfied: spikeextractors>=0.9.1 in /home/accts/bsa9/.local/lib/python3.8/site-packages (from spikeinterface) (0.9.2)\n",
      "Requirement already satisfied: spikewidgets>=0.5.0 in /home/accts/bsa9/.local/lib/python3.8/site-packages (from spikeinterface) (0.5.0)\n",
      "Requirement already satisfied: spikecomparison>=0.3.0 in /home/accts/bsa9/.local/lib/python3.8/site-packages (from spikeinterface) (0.3.0)\n",
      "Requirement already satisfied: spikesorters>=0.4.2 in /home/accts/bsa9/.local/lib/python3.8/site-packages (from spikeinterface) (0.4.2)\n",
      "Requirement already satisfied: spiketoolkit>=0.7.0 in /home/accts/bsa9/.local/lib/python3.8/site-packages (from spikeinterface) (0.7.0)\n",
      "Requirement already satisfied: numpy in /usr/lib64/python3.8/site-packages (from spikeextractors>=0.9.1->spikeinterface) (1.18.4)\n",
      "Requirement already satisfied: tqdm in /usr/lib/python3.8/site-packages (from spikeextractors>=0.9.1->spikeinterface) (4.47.0)\n",
      "Requirement already satisfied: matplotlib in /usr/lib64/python3.8/site-packages (from spikewidgets>=0.5.0->spikeinterface) (3.2.2)\n",
      "Requirement already satisfied: MEAutility>=1.4.6 in /home/accts/bsa9/.local/lib/python3.8/site-packages (from spikewidgets>=0.5.0->spikeinterface) (1.4.8)\n",
      "Requirement already satisfied: scipy in /usr/lib64/python3.8/site-packages (from spikecomparison>=0.3.0->spikeinterface) (1.4.1)\n",
      "Requirement already satisfied: joblib in /usr/lib/python3.8/site-packages (from spikecomparison>=0.3.0->spikeinterface) (0.13.2)\n",
      "Requirement already satisfied: networkx in /usr/lib/python3.8/site-packages (from spikecomparison>=0.3.0->spikeinterface) (2.5)\n",
      "Requirement already satisfied: pandas in /usr/lib64/python3.8/site-packages (from spikecomparison>=0.3.0->spikeinterface) (0.25.3)\n",
      "Requirement already satisfied: requests in /usr/lib/python3.8/site-packages (from spikesorters>=0.4.2->spikeinterface) (2.22.0)\n",
      "Requirement already satisfied: spikemetrics>=0.2.2 in /home/accts/bsa9/.local/lib/python3.8/site-packages (from spiketoolkit>=0.7.0->spikeinterface) (0.2.2)\n",
      "Requirement already satisfied: scikit-learn in /usr/lib64/python3.8/site-packages (from spiketoolkit>=0.7.0->spikeinterface) (0.22.1)\n",
      "Requirement already satisfied: spikefeatures in /home/accts/bsa9/.local/lib/python3.8/site-packages (from spiketoolkit>=0.7.0->spikeinterface) (0.1.1)\n",
      "Requirement already satisfied: cycler>=0.10 in /usr/lib/python3.8/site-packages (from matplotlib->spikewidgets>=0.5.0->spikeinterface) (0.10.0)\n",
      "Requirement already satisfied: kiwisolver>=1.0.1 in /usr/lib64/python3.8/site-packages (from matplotlib->spikewidgets>=0.5.0->spikeinterface) (1.2.0)\n",
      "Requirement already satisfied: pyparsing!=2.0.4,!=2.1.2,!=2.1.6,>=2.0.1 in /usr/lib/python3.8/site-packages (from matplotlib->spikewidgets>=0.5.0->spikeinterface) (2.4.7)\n",
      "Requirement already satisfied: python-dateutil>=2.1 in /usr/lib/python3.8/site-packages (from matplotlib->spikewidgets>=0.5.0->spikeinterface) (2.8.0)\n",
      "Requirement already satisfied: pyyaml in /usr/lib64/python3.8/site-packages (from MEAutility>=1.4.6->spikewidgets>=0.5.0->spikeinterface) (5.3.1)\n",
      "Requirement already satisfied: decorator>=4.3.0 in /usr/lib/python3.8/site-packages (from networkx->spikecomparison>=0.3.0->spikeinterface) (4.4.0)\n",
      "Requirement already satisfied: pytz>=2017.2 in /usr/lib/python3.8/site-packages (from pandas->spikecomparison>=0.3.0->spikeinterface) (2020.1)\n",
      "Requirement already satisfied: chardet<3.1.0,>=3.0.2 in /usr/lib/python3.8/site-packages (from requests->spikesorters>=0.4.2->spikeinterface) (3.0.4)\n",
      "Requirement already satisfied: idna<2.9,>=2.5 in /usr/lib/python3.8/site-packages (from requests->spikesorters>=0.4.2->spikeinterface) (2.8)\n",
      "Requirement already satisfied: urllib3!=1.25.0,!=1.25.1,<1.26,>=1.21.1 in /usr/lib/python3.8/site-packages (from requests->spikesorters>=0.4.2->spikeinterface) (1.25.7)\n",
      "Requirement already satisfied: six in /usr/lib/python3.8/site-packages (from cycler>=0.10->matplotlib->spikewidgets>=0.5.0->spikeinterface) (1.14.0)\n"
     ]
    }
   ],
   "source": [
    "!pip install spikeinterface --user"
   ]
  },
  {
   "cell_type": "code",
   "execution_count": 4,
   "metadata": {},
   "outputs": [
    {
     "name": "stdout",
     "output_type": "stream",
     "text": [
      "\u001b[39m\u001b[1mInstalling \u001b[32m\u001b[1mml_ms4alg\u001b[39m\u001b[22m…\u001b[39m\u001b[22m\n",
      "\u001b[K\u001b[39m\u001b[1mAdding\u001b[39m\u001b[22m \u001b[32m\u001b[1mml_ms4alg\u001b[39m\u001b[22m \u001b[39m\u001b[1mto Pipfile's\u001b[39m\u001b[22m \u001b[31m\u001b[1m[packages]\u001b[39m\u001b[22m\u001b[39m\u001b[1m…\u001b[39m\u001b[22m\n",
      "\u001b[K\u001b[?25h✔ Installation Succeeded\u001b[0m \n",
      "\u001b[39m\u001b[1mInstalling dependencies from Pipfile.lock (ce1137)…\u001b[39m\u001b[22m\n",
      "  🐍   \u001b[32m\u001b[1m▉\u001b[39m\u001b[22m\u001b[32m\u001b[1m▉\u001b[39m\u001b[22m\u001b[32m\u001b[1m▉\u001b[39m\u001b[22m\u001b[32m\u001b[1m▉\u001b[39m\u001b[22m\u001b[32m\u001b[1m▉\u001b[39m\u001b[22m\u001b[32m\u001b[1m▉\u001b[39m\u001b[22m\u001b[32m\u001b[1m▉\u001b[39m\u001b[22m\u001b[32m\u001b[1m▉\u001b[39m\u001b[22m\u001b[32m\u001b[1m▉\u001b[39m\u001b[22m\u001b[32m\u001b[1m▉\u001b[39m\u001b[22m\u001b[32m\u001b[1m▉\u001b[39m\u001b[22m\u001b[32m\u001b[1m▉\u001b[39m\u001b[22m\u001b[32m\u001b[1m▉\u001b[39m\u001b[22m\u001b[32m\u001b[1m▉\u001b[39m\u001b[22m\u001b[32m\u001b[1m▉\u001b[39m\u001b[22m\u001b[32m\u001b[1m▉\u001b[39m\u001b[22m\u001b[32m\u001b[1m▉\u001b[39m\u001b[22m\u001b[32m\u001b[1m▉\u001b[39m\u001b[22m\u001b[32m\u001b[1m▉\u001b[39m\u001b[22m\u001b[32m\u001b[1m▉\u001b[39m\u001b[22m\u001b[32m\u001b[1m▉\u001b[39m\u001b[22m\u001b[32m\u001b[1m▉\u001b[39m\u001b[22m\u001b[32m\u001b[1m▉\u001b[39m\u001b[22m\u001b[32m\u001b[1m▉\u001b[39m\u001b[22m\u001b[32m\u001b[1m▉\u001b[39m\u001b[22m\u001b[32m\u001b[1m▉\u001b[39m\u001b[22m\u001b[32m\u001b[1m▉\u001b[39m\u001b[22m\u001b[32m\u001b[1m▉\u001b[39m\u001b[22m\u001b[32m\u001b[1m▉\u001b[39m\u001b[22m\u001b[32m\u001b[1m▉\u001b[39m\u001b[22m\u001b[32m\u001b[1m▉\u001b[39m\u001b[22m\u001b[32m\u001b[1m▉\u001b[39m\u001b[22m 99/99 — \u001b[30m\u001b[22m00:01:41\u001b[39m\u001b[22mmmmmmmmmmmmmmmmmmmmmmmmmmmmmmmm\n",
      "To activate this project's virtualenv, run \u001b[31m\u001b[22mpipenv shell\u001b[39m\u001b[22m.\n",
      "Alternatively, run a command inside the virtualenv with \u001b[31m\u001b[22mpipenv run\u001b[39m\u001b[22m.\n",
      "\u001b[0m"
     ]
    }
   ],
   "source": [
    "!pipenv install ml_ms4alg"
   ]
  },
  {
   "cell_type": "markdown",
   "metadata": {},
   "source": [
    "\n",
    "# Run spike sorting algorithms\n",
    "\n",
    "This example shows the basic usage of the :code:`sorters` module of :code:`spikeinterface`\n",
    "\n"
   ]
  },
  {
   "cell_type": "code",
   "execution_count": 1,
   "metadata": {
    "scrolled": false
   },
   "outputs": [],
   "source": [
    "import spikeinterface.extractors as se\n",
    "import spikeinterface.sorters as ss"
   ]
  },
  {
   "cell_type": "markdown",
   "metadata": {},
   "source": [
    "First, let's create a toy example:\n",
    "\n"
   ]
  },
  {
   "cell_type": "code",
   "execution_count": 3,
   "metadata": {},
   "outputs": [],
   "source": [
    "recording, sorting_true = se.example_datasets.toy_example(duration=10, seed=0)"
   ]
  },
  {
   "cell_type": "markdown",
   "metadata": {},
   "source": [
    "## Check available sorters\n",
    "\n",
    "\n"
   ]
  },
  {
   "cell_type": "code",
   "execution_count": 2,
   "metadata": {},
   "outputs": [
    {
     "name": "stdout",
     "output_type": "stream",
     "text": [
      "['hdsort', 'herdingspikes', 'ironclust', 'kilosort', 'kilosort2', 'klusta', 'mountainsort4', 'spykingcircus', 'tridesclous', 'waveclus']\n"
     ]
    }
   ],
   "source": [
    "print(ss.available_sorters())"
   ]
  },
  {
   "cell_type": "markdown",
   "metadata": {},
   "source": [
    "This will list the sorters available through SpikeInterface. To see which sorters are installed on the machine\n",
    "you can run:\n",
    "\n"
   ]
  },
  {
   "cell_type": "code",
   "execution_count": 3,
   "metadata": {},
   "outputs": [
    {
     "name": "stdout",
     "output_type": "stream",
     "text": [
      "[]\n"
     ]
    }
   ],
   "source": [
    "print(ss.installed_sorters())"
   ]
  },
  {
   "cell_type": "markdown",
   "metadata": {},
   "source": [
    "## Change sorter parameters\n",
    "\n",
    "\n"
   ]
  },
  {
   "cell_type": "code",
   "execution_count": 6,
   "metadata": {},
   "outputs": [
    {
     "name": "stdout",
     "output_type": "stream",
     "text": [
      "{'detect_sign': -1, 'adjacency_radius': -1, 'freq_min': 300, 'freq_max': 6000, 'filter': True, 'whiten': True, 'curation': False, 'num_workers': None, 'clip_size': 50, 'detect_threshold': 3, 'detect_interval': 10, 'noise_overlap_threshold': 0.15}\n"
     ]
    }
   ],
   "source": [
    "default_ms4_params = ss.Mountainsort4Sorter.default_params()\n",
    "print(default_ms4_params)"
   ]
  },
  {
   "cell_type": "markdown",
   "metadata": {},
   "source": [
    "Parameters can be changed either by passing a full dictionary, or by\n",
    "passing single arguments.\n",
    "\n"
   ]
  },
  {
   "cell_type": "code",
   "execution_count": 7,
   "metadata": {},
   "outputs": [
    {
     "ename": "AssertionError",
     "evalue": "The sorter mountainsort4 is not installed.\n        Please install it with:  \n\nTo use Mountainsort4 run:\n\n       >>> pip install ml_ms4alg\n\n    More information on mountainsort at:\n      * https://github.com/flatironinstitute/mountainsort\n     ",
     "output_type": "error",
     "traceback": [
      "\u001b[1;31m---------------------------------------------------------------------------\u001b[0m",
      "\u001b[1;31mAssertionError\u001b[0m                            Traceback (most recent call last)",
      "\u001b[1;32m<ipython-input-7-7702245f60a0>\u001b[0m in \u001b[0;36m<module>\u001b[1;34m\u001b[0m\n\u001b[0;32m      5\u001b[0m \u001b[1;31m# parameters set by params dictionary\u001b[0m\u001b[1;33m\u001b[0m\u001b[1;33m\u001b[0m\u001b[1;33m\u001b[0m\u001b[0m\n\u001b[0;32m      6\u001b[0m sorting_MS4 = ss.run_mountainsort4(recording=recording, **default_ms4_params,\n\u001b[1;32m----> 7\u001b[1;33m                                    output_folder='tmp_MS4')\n\u001b[0m",
      "\u001b[1;32m~\\AppData\\Roaming\\Python\\Python37\\site-packages\\spikesorters\\sorterlist.py\u001b[0m in \u001b[0;36mrun_mountainsort4\u001b[1;34m(*args, **kwargs)\u001b[0m\n\u001b[0;32m    333\u001b[0m         \u001b[0mThe\u001b[0m \u001b[0mspike\u001b[0m \u001b[0msorted\u001b[0m \u001b[0mdata\u001b[0m\u001b[1;33m\u001b[0m\u001b[1;33m\u001b[0m\u001b[0m\n\u001b[0;32m    334\u001b[0m     \"\"\"\n\u001b[1;32m--> 335\u001b[1;33m     \u001b[1;32mreturn\u001b[0m \u001b[0mrun_sorter\u001b[0m\u001b[1;33m(\u001b[0m\u001b[1;34m'mountainsort4'\u001b[0m\u001b[1;33m,\u001b[0m \u001b[1;33m*\u001b[0m\u001b[0margs\u001b[0m\u001b[1;33m,\u001b[0m \u001b[1;33m**\u001b[0m\u001b[0mkwargs\u001b[0m\u001b[1;33m)\u001b[0m\u001b[1;33m\u001b[0m\u001b[1;33m\u001b[0m\u001b[0m\n\u001b[0m\u001b[0;32m    336\u001b[0m \u001b[1;33m\u001b[0m\u001b[0m\n\u001b[0;32m    337\u001b[0m \u001b[1;33m\u001b[0m\u001b[0m\n",
      "\u001b[1;32m~\\AppData\\Roaming\\Python\\Python37\\site-packages\\spikesorters\\sorterlist.py\u001b[0m in \u001b[0;36mrun_sorter\u001b[1;34m(sorter_name_or_class, recording, output_folder, delete_output_folder, grouping_property, parallel, verbose, raise_error, n_jobs, joblib_backend, **params)\u001b[0m\n\u001b[0;32m     82\u001b[0m \u001b[1;33m\u001b[0m\u001b[0m\n\u001b[0;32m     83\u001b[0m     sorter = SorterClass(recording=recording, output_folder=output_folder, grouping_property=grouping_property,\n\u001b[1;32m---> 84\u001b[1;33m                          verbose=verbose, delete_output_folder=delete_output_folder)\n\u001b[0m\u001b[0;32m     85\u001b[0m     \u001b[0msorter\u001b[0m\u001b[1;33m.\u001b[0m\u001b[0mset_params\u001b[0m\u001b[1;33m(\u001b[0m\u001b[1;33m**\u001b[0m\u001b[0mparams\u001b[0m\u001b[1;33m)\u001b[0m\u001b[1;33m\u001b[0m\u001b[1;33m\u001b[0m\u001b[0m\n\u001b[0;32m     86\u001b[0m     \u001b[0msorter\u001b[0m\u001b[1;33m.\u001b[0m\u001b[0mrun\u001b[0m\u001b[1;33m(\u001b[0m\u001b[0mraise_error\u001b[0m\u001b[1;33m=\u001b[0m\u001b[0mraise_error\u001b[0m\u001b[1;33m,\u001b[0m \u001b[0mparallel\u001b[0m\u001b[1;33m=\u001b[0m\u001b[0mparallel\u001b[0m\u001b[1;33m,\u001b[0m \u001b[0mn_jobs\u001b[0m\u001b[1;33m=\u001b[0m\u001b[0mn_jobs\u001b[0m\u001b[1;33m,\u001b[0m \u001b[0mjoblib_backend\u001b[0m\u001b[1;33m=\u001b[0m\u001b[0mjoblib_backend\u001b[0m\u001b[1;33m)\u001b[0m\u001b[1;33m\u001b[0m\u001b[1;33m\u001b[0m\u001b[0m\n",
      "\u001b[1;32m~\\AppData\\Roaming\\Python\\Python37\\site-packages\\spikesorters\\mountainsort4\\mountainsort4.py\u001b[0m in \u001b[0;36m__init__\u001b[1;34m(self, **kargs)\u001b[0m\n\u001b[0;32m     68\u001b[0m \u001b[1;33m\u001b[0m\u001b[0m\n\u001b[0;32m     69\u001b[0m     \u001b[1;32mdef\u001b[0m \u001b[0m__init__\u001b[0m\u001b[1;33m(\u001b[0m\u001b[0mself\u001b[0m\u001b[1;33m,\u001b[0m \u001b[1;33m**\u001b[0m\u001b[0mkargs\u001b[0m\u001b[1;33m)\u001b[0m\u001b[1;33m:\u001b[0m\u001b[1;33m\u001b[0m\u001b[1;33m\u001b[0m\u001b[0m\n\u001b[1;32m---> 70\u001b[1;33m         \u001b[0mBaseSorter\u001b[0m\u001b[1;33m.\u001b[0m\u001b[0m__init__\u001b[0m\u001b[1;33m(\u001b[0m\u001b[0mself\u001b[0m\u001b[1;33m,\u001b[0m \u001b[1;33m**\u001b[0m\u001b[0mkargs\u001b[0m\u001b[1;33m)\u001b[0m\u001b[1;33m\u001b[0m\u001b[1;33m\u001b[0m\u001b[0m\n\u001b[0m\u001b[0;32m     71\u001b[0m \u001b[1;33m\u001b[0m\u001b[0m\n\u001b[0;32m     72\u001b[0m     \u001b[1;33m@\u001b[0m\u001b[0mclassmethod\u001b[0m\u001b[1;33m\u001b[0m\u001b[1;33m\u001b[0m\u001b[0m\n",
      "\u001b[1;32m~\\AppData\\Roaming\\Python\\Python37\\site-packages\\spikesorters\\basesorter.py\u001b[0m in \u001b[0;36m__init__\u001b[1;34m(self, recording, output_folder, verbose, grouping_property, delete_output_folder)\u001b[0m\n\u001b[0;32m     49\u001b[0m \u001b[1;33m\u001b[0m\u001b[0m\n\u001b[0;32m     50\u001b[0m         assert self.is_installed(), \"\"\"The sorter {} is not installed.\n\u001b[1;32m---> 51\u001b[1;33m         Please install it with:  \\n{} \"\"\".format(self.sorter_name, self.installation_mesg)\n\u001b[0m\u001b[0;32m     52\u001b[0m         \u001b[1;32mif\u001b[0m \u001b[0mself\u001b[0m\u001b[1;33m.\u001b[0m\u001b[0mrequires_locations\u001b[0m\u001b[1;33m:\u001b[0m\u001b[1;33m\u001b[0m\u001b[1;33m\u001b[0m\u001b[0m\n\u001b[0;32m     53\u001b[0m             \u001b[1;32mif\u001b[0m \u001b[1;34m'location'\u001b[0m \u001b[1;32mnot\u001b[0m \u001b[1;32min\u001b[0m \u001b[0mrecording\u001b[0m\u001b[1;33m.\u001b[0m\u001b[0mget_shared_channel_property_names\u001b[0m\u001b[1;33m(\u001b[0m\u001b[1;33m)\u001b[0m\u001b[1;33m:\u001b[0m\u001b[1;33m\u001b[0m\u001b[1;33m\u001b[0m\u001b[0m\n",
      "\u001b[1;31mAssertionError\u001b[0m: The sorter mountainsort4 is not installed.\n        Please install it with:  \n\nTo use Mountainsort4 run:\n\n       >>> pip install ml_ms4alg\n\n    More information on mountainsort at:\n      * https://github.com/flatironinstitute/mountainsort\n     "
     ]
    }
   ],
   "source": [
    "# Mountainsort4 spike sorting\n",
    "default_ms4_params['detect_threshold'] = 4\n",
    "default_ms4_params['curation'] = False\n",
    "\n",
    "# parameters set by params dictionary\n",
    "sorting_MS4 = ss.run_mountainsort4(recording=recording, **default_ms4_params,\n",
    "                                   output_folder='tmp_MS4')"
   ]
  },
  {
   "cell_type": "code",
   "execution_count": null,
   "metadata": {},
   "outputs": [],
   "source": [
    "# parameters set by params dictionary\n",
    "sorting_MS4_10 = ss.run_mountainsort4(recording=recording, detect_threshold=10,\n",
    "                                      output_folder='tmp_MS4')"
   ]
  },
  {
   "cell_type": "code",
   "execution_count": null,
   "metadata": {},
   "outputs": [],
   "source": [
    "print('Units found with threshold = 4:', sorting_MS4.get_unit_ids())\n",
    "print('Units found with threshold = 10:', sorting_MS4_10.get_unit_ids())"
   ]
  },
  {
   "cell_type": "markdown",
   "metadata": {},
   "source": [
    "## Run other sorters\n",
    "\n"
   ]
  },
  {
   "cell_type": "code",
   "execution_count": null,
   "metadata": {},
   "outputs": [],
   "source": [
    "# SpyKING Circus spike sorting\n",
    "# sorting_SC = ss.run_spykingcircus(recording, output_folder='tmp_SC')\n",
    "# print('Units found with Spyking Circus:', sorting_SC.get_unit_ids())"
   ]
  },
  {
   "cell_type": "code",
   "execution_count": null,
   "metadata": {},
   "outputs": [],
   "source": [
    "# KiloSort spike sorting (KILOSORT_PATH and NPY_MATLAB_PATH can be set as environment variables)\n",
    "# sorting_KS = ss.run_kilosort(recording, output_folder='tmp_KS')\n",
    "#  print('Units found with Kilosort:', sorting_KS.get_unit_ids())"
   ]
  },
  {
   "cell_type": "code",
   "execution_count": null,
   "metadata": {},
   "outputs": [],
   "source": [
    "# Kilosort2 spike sorting (KILOSORT2_PATH and NPY_MATLAB_PATH can be set as environment variables)\n",
    "# sorting_KS2 = ss.run_kilosort2(recording, output_folder='tmp_KS2')\n",
    "#  print('Units found with Kilosort2', sorting_KS2.get_unit_ids())"
   ]
  },
  {
   "cell_type": "code",
   "execution_count": null,
   "metadata": {},
   "outputs": [],
   "source": [
    "# Klusta spike sorting\n",
    "#  sorting_KL = ss.run_klusta(recording, output_folder='tmp_KL')\n",
    "# print('Units found with Klusta:', sorting_KL.get_unit_ids())"
   ]
  },
  {
   "cell_type": "code",
   "execution_count": null,
   "metadata": {},
   "outputs": [],
   "source": [
    "# IronClust spike sorting (IRONCLUST_PATH can be set as environment variables)\n",
    "# sorting_IC = ss.run_ironclust(recording, output_folder='tmp_IC')\n",
    "# print('Units found with Ironclust:', sorting_IC.get_unit_ids())"
   ]
  },
  {
   "cell_type": "code",
   "execution_count": null,
   "metadata": {},
   "outputs": [],
   "source": [
    "# Tridesclous spike sorting\n",
    "# sorting_TDC = ss.run_tridesclous(recording, output_folder='tmp_TDC')\n",
    "# print('Units found with Tridesclous:', sorting_TDC.get_unit_ids())"
   ]
  }
 ],
 "metadata": {
  "kernelspec": {
   "display_name": "Python 3",
   "language": "python",
   "name": "python3"
  },
  "language_info": {
   "codemirror_mode": {
    "name": "ipython",
    "version": 3
   },
   "file_extension": ".py",
   "mimetype": "text/x-python",
   "name": "python",
   "nbconvert_exporter": "python",
   "pygments_lexer": "ipython3",
   "version": "3.8.5"
  }
 },
 "nbformat": 4,
 "nbformat_minor": 1
}
